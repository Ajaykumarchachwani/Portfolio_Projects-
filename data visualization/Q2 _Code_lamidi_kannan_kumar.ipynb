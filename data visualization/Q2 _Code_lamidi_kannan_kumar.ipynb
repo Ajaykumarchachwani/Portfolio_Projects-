{
 "cells": [
  {
   "cell_type": "code",
   "execution_count": 117,
   "metadata": {},
   "outputs": [],
   "source": [
    "import numpy as np\n",
    "import pandas as pd\n",
    "import matplotlib.pyplot as plt\n",
    "from sklearn.preprocessing import StandardScaler\n",
    "from sklearn.decomposition import PCA\n",
    "from sklearn.cluster import KMeans\n",
    "from sklearn.manifold import TSNE\n",
    "import plotly.graph_objs as go\n",
    "import plotly .offline as offline\n",
    "import plotly.figure_factory as ff"
   ]
  },
  {
   "cell_type": "code",
   "execution_count": 118,
   "metadata": {},
   "outputs": [
    {
     "name": "stdout",
     "output_type": "stream",
     "text": [
      "   gender  SeniorCitizen Partner Dependents  tenure PhoneService  \\\n",
      "0  Female              0     Yes         No       1           No   \n",
      "1    Male              0      No         No      34          Yes   \n",
      "2    Male              0      No         No       2          Yes   \n",
      "3    Male              0      No         No      45           No   \n",
      "4  Female              0      No         No       2          Yes   \n",
      "\n",
      "      MultipleLines InternetService OnlineSecurity OnlineBackup  \\\n",
      "0  No phone service             DSL             No          Yes   \n",
      "1                No             DSL            Yes           No   \n",
      "2                No             DSL            Yes          Yes   \n",
      "3  No phone service             DSL            Yes           No   \n",
      "4                No     Fiber optic             No           No   \n",
      "\n",
      "  DeviceProtection TechSupport StreamingTV StreamingMovies        Contract  \\\n",
      "0               No          No          No              No  Month-to-month   \n",
      "1              Yes          No          No              No        One year   \n",
      "2               No          No          No              No  Month-to-month   \n",
      "3              Yes         Yes          No              No        One year   \n",
      "4               No          No          No              No  Month-to-month   \n",
      "\n",
      "  PaperlessBilling              PaymentMethod  MonthlyCharges  TotalCharges  \n",
      "0              Yes           Electronic check           29.85         29.85  \n",
      "1               No               Mailed check           56.95       1889.50  \n",
      "2              Yes               Mailed check           53.85        108.15  \n",
      "3               No  Bank transfer (automatic)           42.30       1840.75  \n",
      "4              Yes           Electronic check           70.70        151.65  \n",
      "(7032, 19)\n",
      "<class 'pandas.core.frame.DataFrame'>\n",
      "RangeIndex: 7032 entries, 0 to 7031\n",
      "Data columns (total 19 columns):\n",
      " #   Column            Non-Null Count  Dtype  \n",
      "---  ------            --------------  -----  \n",
      " 0   gender            7032 non-null   object \n",
      " 1   SeniorCitizen     7032 non-null   int64  \n",
      " 2   Partner           7032 non-null   object \n",
      " 3   Dependents        7032 non-null   object \n",
      " 4   tenure            7032 non-null   int64  \n",
      " 5   PhoneService      7032 non-null   object \n",
      " 6   MultipleLines     7032 non-null   object \n",
      " 7   InternetService   7032 non-null   object \n",
      " 8   OnlineSecurity    7032 non-null   object \n",
      " 9   OnlineBackup      7032 non-null   object \n",
      " 10  DeviceProtection  7032 non-null   object \n",
      " 11  TechSupport       7032 non-null   object \n",
      " 12  StreamingTV       7032 non-null   object \n",
      " 13  StreamingMovies   7032 non-null   object \n",
      " 14  Contract          7032 non-null   object \n",
      " 15  PaperlessBilling  7032 non-null   object \n",
      " 16  PaymentMethod     7032 non-null   object \n",
      " 17  MonthlyCharges    7032 non-null   float64\n",
      " 18  TotalCharges      7032 non-null   float64\n",
      "dtypes: float64(2), int64(2), object(15)\n",
      "memory usage: 1.0+ MB\n",
      "None\n",
      "       SeniorCitizen       tenure  MonthlyCharges  TotalCharges\n",
      "count    7032.000000  7032.000000     7032.000000   7032.000000\n",
      "mean        0.162400    32.421786       64.798208   2283.300441\n",
      "std         0.368844    24.545260       30.085974   2266.771362\n",
      "min         0.000000     1.000000       18.250000     18.800000\n",
      "25%         0.000000     9.000000       35.587500    401.450000\n",
      "50%         0.000000    29.000000       70.350000   1397.475000\n",
      "75%         0.000000    55.000000       89.862500   3794.737500\n",
      "max         1.000000    72.000000      118.750000   8684.800000\n"
     ]
    }
   ],
   "source": [
    "# Importing dataset and examining it\n",
    "dataset = pd.read_csv(\"C:\\\\Users\\elang\\Desktop\\Sanjay\\Data Visualization\\customers.csv\")\n",
    "print(dataset.head())\n",
    "print(dataset.shape)\n",
    "print(dataset.info())\n",
    "print(dataset.describe())"
   ]
  },
  {
   "cell_type": "code",
   "execution_count": 119,
   "metadata": {},
   "outputs": [
    {
     "data": {
      "text/plain": [
       "'corrheatmap.html'"
      ]
     },
     "execution_count": 119,
     "metadata": {},
     "output_type": "execute_result"
    }
   ],
   "source": [
    "# Plotting Correlation Heatmap\n",
    "corrs = dataset.corr()\n",
    "figure = ff.create_annotated_heatmap(\n",
    "    z=corrs.values,\n",
    "    x=list(corrs.columns),\n",
    "    y=list(corrs.index),\n",
    "    annotation_text=corrs.round(2).values,\n",
    "    showscale=True)\n",
    "offline.plot(figure,filename='corrheatmap.html')"
   ]
  },
  {
   "cell_type": "code",
   "execution_count": 120,
   "metadata": {},
   "outputs": [
    {
     "name": "stdout",
     "output_type": "stream",
     "text": [
      "<class 'pandas.core.frame.DataFrame'>\n",
      "RangeIndex: 7032 entries, 0 to 7031\n",
      "Data columns (total 16 columns):\n",
      " #   Column            Non-Null Count  Dtype \n",
      "---  ------            --------------  ----- \n",
      " 0   gender            7032 non-null   object\n",
      " 1   SeniorCitizen     7032 non-null   int64 \n",
      " 2   Partner           7032 non-null   object\n",
      " 3   Dependents        7032 non-null   object\n",
      " 4   PhoneService      7032 non-null   object\n",
      " 5   MultipleLines     7032 non-null   object\n",
      " 6   InternetService   7032 non-null   object\n",
      " 7   OnlineSecurity    7032 non-null   object\n",
      " 8   OnlineBackup      7032 non-null   object\n",
      " 9   DeviceProtection  7032 non-null   object\n",
      " 10  TechSupport       7032 non-null   object\n",
      " 11  StreamingTV       7032 non-null   object\n",
      " 12  StreamingMovies   7032 non-null   object\n",
      " 13  Contract          7032 non-null   object\n",
      " 14  PaperlessBilling  7032 non-null   object\n",
      " 15  PaymentMethod     7032 non-null   object\n",
      "dtypes: int64(1), object(15)\n",
      "memory usage: 879.1+ KB\n",
      "None\n"
     ]
    }
   ],
   "source": [
    "# Dropping columns with high correlation + causation\n",
    "dataset = dataset.drop(['tenure','MonthlyCharges', 'TotalCharges'], axis = 1)\n",
    "print(dataset.info())"
   ]
  },
  {
   "cell_type": "code",
   "execution_count": 121,
   "metadata": {},
   "outputs": [
    {
     "name": "stdout",
     "output_type": "stream",
     "text": [
      "<class 'pandas.core.frame.DataFrame'>\n",
      "RangeIndex: 7032 entries, 0 to 7031\n",
      "Data columns (total 42 columns):\n",
      " #   Column                                   Non-Null Count  Dtype\n",
      "---  ------                                   --------------  -----\n",
      " 0   SeniorCitizen                            7032 non-null   int64\n",
      " 1   gender_Female                            7032 non-null   uint8\n",
      " 2   gender_Male                              7032 non-null   uint8\n",
      " 3   Partner_No                               7032 non-null   uint8\n",
      " 4   Partner_Yes                              7032 non-null   uint8\n",
      " 5   Dependents_No                            7032 non-null   uint8\n",
      " 6   Dependents_Yes                           7032 non-null   uint8\n",
      " 7   StreamingTV_No                           7032 non-null   uint8\n",
      " 8   StreamingTV_No internet service          7032 non-null   uint8\n",
      " 9   StreamingTV_Yes                          7032 non-null   uint8\n",
      " 10  StreamingMovies_No                       7032 non-null   uint8\n",
      " 11  StreamingMovies_No internet service      7032 non-null   uint8\n",
      " 12  StreamingMovies_Yes                      7032 non-null   uint8\n",
      " 13  PhoneService_No                          7032 non-null   uint8\n",
      " 14  PhoneService_Yes                         7032 non-null   uint8\n",
      " 15  MultipleLines_No                         7032 non-null   uint8\n",
      " 16  MultipleLines_No phone service           7032 non-null   uint8\n",
      " 17  MultipleLines_Yes                        7032 non-null   uint8\n",
      " 18  InternetService_DSL                      7032 non-null   uint8\n",
      " 19  InternetService_Fiber optic              7032 non-null   uint8\n",
      " 20  InternetService_No                       7032 non-null   uint8\n",
      " 21  Contract_Month-to-month                  7032 non-null   uint8\n",
      " 22  Contract_One year                        7032 non-null   uint8\n",
      " 23  Contract_Two year                        7032 non-null   uint8\n",
      " 24  PaperlessBilling_No                      7032 non-null   uint8\n",
      " 25  PaperlessBilling_Yes                     7032 non-null   uint8\n",
      " 26  PaymentMethod_Bank transfer (automatic)  7032 non-null   uint8\n",
      " 27  PaymentMethod_Credit card (automatic)    7032 non-null   uint8\n",
      " 28  PaymentMethod_Electronic check           7032 non-null   uint8\n",
      " 29  PaymentMethod_Mailed check               7032 non-null   uint8\n",
      " 30  OnlineSecurity_No                        7032 non-null   uint8\n",
      " 31  OnlineSecurity_No internet service       7032 non-null   uint8\n",
      " 32  OnlineSecurity_Yes                       7032 non-null   uint8\n",
      " 33  OnlineBackup_No                          7032 non-null   uint8\n",
      " 34  OnlineBackup_No internet service         7032 non-null   uint8\n",
      " 35  OnlineBackup_Yes                         7032 non-null   uint8\n",
      " 36  DeviceProtection_No                      7032 non-null   uint8\n",
      " 37  DeviceProtection_No internet service     7032 non-null   uint8\n",
      " 38  DeviceProtection_Yes                     7032 non-null   uint8\n",
      " 39  TechSupport_No                           7032 non-null   uint8\n",
      " 40  TechSupport_No internet service          7032 non-null   uint8\n",
      " 41  TechSupport_Yes                          7032 non-null   uint8\n",
      "dtypes: int64(1), uint8(41)\n",
      "memory usage: 336.6 KB\n",
      "None\n",
      "   SeniorCitizen  gender_Female  gender_Male  Partner_No  Partner_Yes  \\\n",
      "0              0              1            0           0            1   \n",
      "1              0              0            1           1            0   \n",
      "\n",
      "   Dependents_No  Dependents_Yes  StreamingTV_No  \\\n",
      "0              1               0               1   \n",
      "1              1               0               1   \n",
      "\n",
      "   StreamingTV_No internet service  StreamingTV_Yes  ...  OnlineSecurity_Yes  \\\n",
      "0                                0                0  ...                   0   \n",
      "1                                0                0  ...                   1   \n",
      "\n",
      "   OnlineBackup_No  OnlineBackup_No internet service  OnlineBackup_Yes  \\\n",
      "0                0                                 0                 1   \n",
      "1                1                                 0                 0   \n",
      "\n",
      "   DeviceProtection_No  DeviceProtection_No internet service  \\\n",
      "0                    1                                     0   \n",
      "1                    0                                     0   \n",
      "\n",
      "   DeviceProtection_Yes  TechSupport_No  TechSupport_No internet service  \\\n",
      "0                     0               1                                0   \n",
      "1                     1               1                                0   \n",
      "\n",
      "   TechSupport_Yes  \n",
      "0                0  \n",
      "1                0  \n",
      "\n",
      "[2 rows x 42 columns]\n"
     ]
    }
   ],
   "source": [
    "# Converting Categorical features into Numerical features\n",
    "categorical_features = ['gender', 'Partner', 'Dependents', 'StreamingTV', 'StreamingMovies', 'PhoneService', 'MultipleLines','InternetService',\n",
    "'Contract','PaperlessBilling','PaymentMethod','OnlineSecurity','OnlineBackup','DeviceProtection','TechSupport']\n",
    "final_data = pd.get_dummies(dataset, columns = categorical_features)\n",
    "print(final_data.info())\n",
    "print(final_data.head(2))"
   ]
  },
  {
   "cell_type": "code",
   "execution_count": 123,
   "metadata": {},
   "outputs": [],
   "source": [
    "# Dividing data into subsets\n",
    "#Personal Data\n",
    "subset1 = final_data[['gender_Male','gender_Female','Partner_Yes','Partner_No','Dependents_Yes','Dependents_No',\n",
    "                      'SeniorCitizen']]\n"
   ]
  },
  {
   "cell_type": "code",
   "execution_count": 124,
   "metadata": {},
   "outputs": [],
   "source": [
    "subset2 = final_data[['PhoneService_Yes','PhoneService_No',\n",
    "                      'MultipleLines_Yes','MultipleLines_No','MultipleLines_No phone service',\n",
    "                      'InternetService_DSL','InternetService_Fiber optic','InternetService_No',\n",
    "                      'Contract_Month-to-month','Contract_One year','Contract_Two year',\n",
    "                      'PaperlessBilling_Yes','PaperlessBilling_No',\n",
    "                      'PaymentMethod_Electronic check','PaymentMethod_Mailed check',\n",
    "                      'PaymentMethod_Bank transfer (automatic)','PaymentMethod_Credit card (automatic)']]\n"
   ]
  },
  {
   "cell_type": "code",
   "execution_count": 125,
   "metadata": {},
   "outputs": [],
   "source": [
    "subset3 = final_data[['OnlineSecurity_Yes','OnlineSecurity_No','OnlineSecurity_No internet service',\n",
    "                      'OnlineBackup_Yes','OnlineBackup_No','OnlineBackup_No internet service',\n",
    "                      'DeviceProtection_Yes','DeviceProtection_No','DeviceProtection_No internet service',\n",
    "                      'TechSupport_Yes','TechSupport_No','TechSupport_No internet service','StreamingTV_Yes','StreamingTV_No','StreamingTV_No internet service','StreamingMovies_Yes',\n",
    "                      'StreamingMovies_No','StreamingMovies_No internet service',]]"
   ]
  },
  {
   "cell_type": "code",
   "execution_count": 126,
   "metadata": {},
   "outputs": [
    {
     "data": {
      "image/png": "[encoded data removed]",
      "text/plain": [
       "<Figure size 432x288 with 1 Axes>"
      ]
     },
     "metadata": {
      "needs_background": "light"
     },
     "output_type": "display_data"
    }
   ],
   "source": [
    "# Normalizing numerical features so that each feature has mean 0 and variance 1\n",
    "feature_scaler = StandardScaler()\n",
    "X1 = feature_scaler.fit_transform(subset1)\n",
    "X2 = feature_scaler.fit_transform(subset2)\n",
    "X3 = feature_scaler.fit_transform(subset3)\n",
    "\n",
    "\n",
    "# Analysis on subset1 - Personal Data\n",
    "# Finding the number of clusters (K) - Elbow Plot Method\n",
    "inertia = []\n",
    "for i in range(1,11):\n",
    "    kmeans = KMeans(n_clusters = i, random_state = 100)\n",
    "    kmeans.fit(X1)\n",
    "    inertia.append(kmeans.inertia_)\n",
    "\n",
    "plt.plot(range(1, 11), inertia)\n",
    "plt.title('The Elbow Plot')\n",
    "plt.xlabel('Number of clusters')\n",
    "plt.ylabel('Inertia')\n",
    "plt.show()"
   ]
  },
  {
   "cell_type": "code",
   "execution_count": 127,
   "metadata": {},
   "outputs": [
    {
     "data": {
      "text/plain": [
       "'t-SNE1.html'"
      ]
     },
     "execution_count": 127,
     "metadata": {},
     "output_type": "execute_result"
    }
   ],
   "source": [
    "# Implementing t-SNE to visualize dataset\n",
    "tsne = TSNE(n_components = 2, perplexity =30,n_iter=2000)\n",
    "x_tsne = tsne.fit_transform(X1)\n",
    "\n",
    "gender = list(dataset['gender'])\n",
    "Partner = list(dataset['Partner'])\n",
    "Dependents = list(dataset['Dependents'])\n",
    "SeniorCitizen = list(dataset['SeniorCitizen'])\n",
    "\n",
    "\n",
    "data = [go.Scatter(x=x_tsne[:,0], y=x_tsne[:,1], mode='markers',\n",
    "                    marker = dict(color=kmeans.labels_, colorscale='Rainbow', opacity=0.5),\n",
    "                                text=[f'gender: {a}; Partner: {b}; Dependents:{c}, SeniorCitizen:{d}' for a,b,c,d in list(zip(gender,Partner,Dependents,SeniorCitizen))],\n",
    "                                hoverinfo='text')]\n",
    "\n",
    "layout = go.Layout(title = 't-SNE Dimensionality Reduction', width = 700, height = 700,\n",
    "                    xaxis = dict(title='First Dimension'),\n",
    "                    yaxis = dict(title='Second Dimension'))\n",
    "fig = go.Figure(data=data, layout=layout)\n",
    "offline.plot(fig,filename='t-SNE1.html')"
   ]
  },
  {
   "cell_type": "code",
   "execution_count": 130,
   "metadata": {},
   "outputs": [
    {
     "data": {
      "image/png": "[encoded data removed]",
      "text/plain": [
       "<Figure size 432x288 with 1 Axes>"
      ]
     },
     "metadata": {
      "needs_background": "light"
     },
     "output_type": "display_data"
    }
   ],
   "source": [
    "#Analysis on subset2 - Work Data\n",
    "# Finding the number of clusters (K) - Elbow Plot Method\n",
    "inertia = []\n",
    "for i in range(1,11):\n",
    "    kmeans = KMeans(n_clusters = i, random_state = 100)\n",
    "    kmeans.fit(X2)\n",
    "    inertia.append(kmeans.inertia_)\n",
    "\n",
    "plt.plot(range(1, 11), inertia)\n",
    "plt.title('The Elbow Plot')\n",
    "plt.xlabel('Number of clusters')\n",
    "plt.ylabel('Inertia')\n",
    "plt.show()"
   ]
  },
  {
   "cell_type": "code",
   "execution_count": 128,
   "metadata": {},
   "outputs": [
    {
     "data": {
      "text/plain": [
       "'t-SNE3.html'"
      ]
     },
     "execution_count": 128,
     "metadata": {},
     "output_type": "execute_result"
    }
   ],
   "source": [
    "# Implementing t-SNE to visualize dataset\n",
    "tsne = TSNE(n_components = 2, perplexity =30,n_iter=2000)\n",
    "x_tsne = tsne.fit_transform(X2)\n",
    "\n",
    "PhoneService= list(dataset['PhoneService'])\n",
    "MultipleLines = list(dataset['MultipleLines'])\n",
    "InternetService = list(dataset['InternetService'])\n",
    "Contract = list(dataset['Contract'])\n",
    "PaperlessBilling = list(dataset['PaperlessBilling'])\n",
    "PaymentMethod=list(dataset['PaymentMethod'])\n",
    "\n",
    "\n",
    "\n",
    "data = [go.Scatter(x=x_tsne[:,0], y=x_tsne[:,1], mode='markers',\n",
    "                    marker = dict(color=kmeans.labels_, colorscale='Rainbow', opacity=0.5),\n",
    "                                text=[f'PhoneService: {a}; MultipleLines: {b}; InternetService:{c}, Contract:{d},PaperlessBilling:{e},PaymentMethod:{f}' for a,b,c,d,e,f in list(zip(PhoneService,MultipleLines,InternetService,Contract,PaperlessBilling,PaymentMethod))],\n",
    "                                hoverinfo='text')]\n",
    "\n",
    "layout = go.Layout(title = 't-SNE Dimensionality Reduction', width = 1000, height = 700,\n",
    "                    xaxis = dict(title='First Dimension'),\n",
    "                    yaxis = dict(title='Second Dimension'))\n",
    "fig = go.Figure(data=data, layout=layout)\n",
    "offline.plot(fig,filename='t-SNE3.html')"
   ]
  },
  {
   "cell_type": "code",
   "execution_count": 131,
   "metadata": {},
   "outputs": [
    {
     "data": {
      "image/png": "[encoded data removed]",
      "text/plain": [
       "<Figure size 432x288 with 1 Axes>"
      ]
     },
     "metadata": {
      "needs_background": "light"
     },
     "output_type": "display_data"
    }
   ],
   "source": [
    "# Analysis on subset3 - Churn Factos\n",
    "# Finding the number of clusters (K) - Elbow Plot Method\n",
    "inertia = []\n",
    "for i in range(1,11):\n",
    "    kmeans = KMeans(n_clusters = i, random_state = 100)\n",
    "    kmeans.fit(X3)\n",
    "    inertia.append(kmeans.inertia_)\n",
    "\n",
    "plt.plot(range(1, 11), inertia)\n",
    "plt.title('The Elbow Plot')\n",
    "plt.xlabel('Number of clusters')\n",
    "plt.ylabel('Inertia')\n",
    "plt.show()"
   ]
  },
  {
   "cell_type": "code",
   "execution_count": 133,
   "metadata": {},
   "outputs": [
    {
     "data": {
      "text/plain": [
       "'t-SNE3.html'"
      ]
     },
     "execution_count": 133,
     "metadata": {},
     "output_type": "execute_result"
    }
   ],
   "source": [
    "# Implementing t-SNE to visualize dataset\n",
    "tsne = TSNE(n_components = 2, perplexity =30,n_iter=2000)\n",
    "x_tsne = tsne.fit_transform(X3)\n",
    "\n",
    "OnlineSecurity= list(dataset['OnlineSecurity'])\n",
    "OnlineBackup = list(dataset['OnlineBackup'])\n",
    "DeviceProtection = list(dataset['DeviceProtection'])\n",
    "TechSupport = list(dataset['TechSupport'])\n",
    "StreamingTV = list(dataset['StreamingTV'])\n",
    "StreamingMovies = list(dataset['StreamingMovies'])\n",
    "\n",
    "data = [go.Scatter(x=x_tsne[:,0], y=x_tsne[:,1], mode='markers',\n",
    "                    marker = dict(color=kmeans.labels_, colorscale='Rainbow', opacity=0.5),\n",
    "                                text=[f'OnlineSecurity: {a}; OnlineBackup: {b}; DeviceProtection:{c}, TechSupport:{d},StreamingTV:{e},StreamingMovies:{f}' for a,b,c,d,e,f in list(zip(OnlineSecurity,OnlineBackup,DeviceProtection,TechSupport,StreamingTV,StreamingMovies))],\n",
    "                                hoverinfo='text')]\n",
    "\n",
    "layout = go.Layout(title = 't-SNE Dimensionality Reduction', width = 1000, height = 700,\n",
    "                    xaxis = dict(title='First Dimension'),\n",
    "                    yaxis = dict(title='Second Dimension'))\n",
    "fig = go.Figure(data=data, layout=layout)\n",
    "offline.plot(fig,filename='t-SNE3.html')"
   ]
  },
  {
   "cell_type": "code",
   "execution_count": null,
   "metadata": {},
   "outputs": [],
   "source": []
  }
 ],
 "metadata": {
  "kernelspec": {
   "display_name": "Python 3",
   "language": "python",
   "name": "python3"
  },
  "language_info": {
   "codemirror_mode": {
    "name": "ipython",
    "version": 3
   },
   "file_extension": ".py",
   "mimetype": "text/x-python",
   "name": "python",
   "nbconvert_exporter": "python",
   "pygments_lexer": "ipython3",
   "version": "3.7.6"
  }
 },
 "nbformat": 4,
 "nbformat_minor": 4
}
